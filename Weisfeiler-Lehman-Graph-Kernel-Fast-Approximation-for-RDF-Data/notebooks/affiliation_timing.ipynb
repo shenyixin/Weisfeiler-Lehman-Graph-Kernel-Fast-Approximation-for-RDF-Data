{
 "cells": [
  {
   "cell_type": "code",
   "execution_count": 1,
   "metadata": {},
   "outputs": [],
   "source": [
    "import sys\n",
    "sys.path.insert(0, '../')"
   ]
  },
  {
   "cell_type": "code",
   "execution_count": 2,
   "metadata": {},
   "outputs": [],
   "source": [
    "from collections import Counter\n",
    "import time\n",
    "import random\n",
    "\n",
    "import rdflib\n",
    "import numpy as np\n",
    "from pprint import pprint\n",
    "from sklearn import svm\n",
    "\n",
    "import wlkernel"
   ]
  },
  {
   "cell_type": "code",
   "execution_count": 3,
   "metadata": {},
   "outputs": [],
   "source": [
    "rdf_graph = rdflib.Graph().parse('../data/aifbfixed_complete.n3', format='n3')"
   ]
  },
  {
   "cell_type": "code",
   "execution_count": 4,
   "metadata": {},
   "outputs": [],
   "source": [
    "all_triples = [\n",
    "    (str(subj), str(pred), str(obj))\n",
    "     for subj, pred, obj in rdf_graph\n",
    "]"
   ]
  },
  {
   "cell_type": "code",
   "execution_count": 5,
   "metadata": {},
   "outputs": [],
   "source": [
    "quantiles = np.linspace(0.1, 1, 10)  # [0.1, 0.2, 0.3, 0.4, 0.5, 0.6, 0.7, 0.8, 0.9, 1. ]\n",
    "results_wlrdf = []\n",
    "results_wl = []\n",
    "n = len(all_triples)\n",
    "RANDOM_STATE = 42"
   ]
  },
  {
   "cell_type": "code",
   "execution_count": 6,
   "metadata": {},
   "outputs": [],
   "source": [
    "for q in quantiles:\n",
    "    n_sub = int(n * q)\n",
    "    random.seed(RANDOM_STATE)\n",
    "    triples = random.sample(all_triples, n_sub)\n",
    "    \n",
    "    instances_class_map = {\n",
    "        subj: obj\n",
    "        for subj, pred, obj in triples\n",
    "        if 'affiliation' in pred\n",
    "        and 'id5instance' not in obj\n",
    "    }\n",
    "    instances = list(instances_class_map.keys())\n",
    "    y = list(instances_class_map.values())\n",
    "    \n",
    "    triples = [\n",
    "        (subj, pred, obj)\n",
    "        for subj, pred, obj in triples\n",
    "        if 'affiliation' not in pred\n",
    "        and 'employs' not in pred\n",
    "        and 'member' not in pred\n",
    "        and 'head' not in pred\n",
    "    ]\n",
    "    t0 = time.time()\n",
    "    wlrdf_graph = wlkernel.WLRDFGraph(triples, instances, max_depth=3)\n",
    "    kernel_matrix = wlkernel.wlrdf_kernel_matrix(wlrdf_graph, instances, iterations=0)\n",
    "    t1 = time.time()\n",
    "\n",
    "    results_wlrdf.append(t1 - t0)"
   ]
  },
  {
   "cell_type": "code",
   "execution_count": 7,
   "metadata": {},
   "outputs": [],
   "source": [
    "rdf_graph = rdflib.Graph().parse('../data/aifbfixed_complete.n3', format='n3')"
   ]
  },
  {
   "cell_type": "code",
   "execution_count": 8,
   "metadata": {},
   "outputs": [],
   "source": [
    "all_triples = [\n",
    "    (str(subj), str(pred), str(obj))\n",
    "     for subj, pred, obj in rdf_graph\n",
    "]"
   ]
  },
  {
   "cell_type": "code",
   "execution_count": 9,
   "metadata": {},
   "outputs": [],
   "source": [
    "for q in quantiles:\n",
    "    n_sub = int(n * q)\n",
    "    random.seed(RANDOM_STATE)\n",
    "    triples = random.sample(all_triples, n_sub)\n",
    "    \n",
    "    instances_class_map = {\n",
    "        subj: obj\n",
    "        for subj, pred, obj in triples\n",
    "        if 'affiliation' in pred\n",
    "        and 'id5instance' not in obj\n",
    "    }\n",
    "    instances = list(instances_class_map.keys())\n",
    "    y = list(instances_class_map.values())\n",
    "    \n",
    "    triples = [\n",
    "        (subj, pred, obj)\n",
    "        for subj, pred, obj in triples\n",
    "        if 'affiliation' not in pred\n",
    "        and 'employs' not in pred\n",
    "        and 'member' not in pred\n",
    "        and 'head' not in pred\n",
    "    ]\n",
    "    t0 = time.time()\n",
    "    wl_graphs = [wlkernel.WLGraph(triples, instance, max_depth=3) for instance in instances]\n",
    "    kernel_matrix = wlkernel.wl_kernel_matrix(wl_graphs, iterations=0)\n",
    "    t1 = time.time()\n",
    "\n",
    "    results_wl.append(t1 - t0)"
   ]
  },
  {
   "cell_type": "code",
   "execution_count": 10,
   "metadata": {},
   "outputs": [],
   "source": [
    "import matplotlib.pyplot as plt\n",
    "\n",
    "class Result:\n",
    "    def __init__(self, values = None, color = 'red', name = ''):\n",
    "        if values is not None:\n",
    "            self.values = values\n",
    "        self.color = color\n",
    "        self.name = name\n",
    "\n",
    "x = quantiles\n",
    "y = Result(results_wlrdf, 'orange', 'WL RDF')\n",
    "y1 = Result(results_wl, 'purple', 'WL')\n",
    "n = len(x)\n",
    "\n",
    "fig, ax = plt.subplots(figsize=(15, 8))\n",
    "for i in range(n - 1):\n",
    "    plt.plot(x[i: i+2], y.values[i: i+2],\n",
    "             'o-', color=y.color, markersize=8)\n",
    "    plt.plot(x[i: i+2], y1.values[i: i+2],\n",
    "             'o-', color= y1.color, markersize=8)\n",
    "\n",
    "ax.xaxis.label.set_text('fraction of the dataset')\n",
    "ax.yaxis.label.set_text('runnning time (s)')\n",
    "\n",
    "custom_lines = [plt.Line2D([0], [0], color=y.color, lw=4),\n",
    "                plt.Line2D([0], [0], color=y1.color, lw=4)]\n",
    "ax.legend(custom_lines, [y.name, y1.name])\n",
    "plt.savefig('../results/affiliation_timing.png', format='png')"
   ]
  }
 ],
 "metadata": {
  "kernelspec": {
   "display_name": "Python 3",
   "language": "python",
   "name": "python3"
  },
  "language_info": {
   "codemirror_mode": {
    "name": "ipython",
    "version": 3
   },
   "file_extension": ".py",
   "mimetype": "text/x-python",
   "name": "python",
   "nbconvert_exporter": "python",
   "pygments_lexer": "ipython3",
   "version": "3.7.3"
  }
 },
 "nbformat": 4,
 "nbformat_minor": 2
}
